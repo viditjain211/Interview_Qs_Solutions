{
  "nbformat": 4,
  "nbformat_minor": 0,
  "metadata": {
    "colab": {
      "name": "Binning employee experience levels in Python (Pandas).ipynb",
      "provenance": []
    },
    "kernelspec": {
      "name": "python3",
      "display_name": "Python 3"
    },
    "language_info": {
      "name": "python"
    }
  },
  "cells": [
    {
      "cell_type": "markdown",
      "source": [
        "##Binning employee experience levels in Python (Pandas)"
      ],
      "metadata": {
        "id": "zHtI1BxahW_Z"
      }
    },
    {
      "cell_type": "markdown",
      "source": [
        "Below is a snippet from a table that contains information about employees that work at Company XYZ:\n",
        "\n",
        "| **employee\\_name** | **employee\\_id** | **date\\_joined** | **age** | **yrs\\_of\\_experience** |\n",
        "| --- | --- | --- | --- | --- |\n",
        "| Andy | 123456 | 2015-02-15 | 45 | 24 |\n",
        "| Beth | 789456 | 2014-02-15 | 36 | 15 |\n",
        "| Cindy | 654123 | 2017-05-16 | 34 | 14 |\n",
        "| Dale | 963852 | 2018-01-15 | 25 | 4 |\n",
        "\n",
        "Company XYZ is looking to create a report that groups the experience of its employees into 3 simple categories, with the following bins (inclusive):\n",
        "\n",
        "- 0-5 Low\n",
        "- 6-15 Medium\n",
        "- 16+ High\n",
        "\n",
        "Additionally, you can assume the data is clean and there are no employees with negative or non-numerical years of experience.\n",
        "\n",
        "Write code in Python (using Pandas) to create a new column in the dataframe, called &#39;experience\\_binned&#39;, that groups employees as requested above."
      ],
      "metadata": {
        "id": "OHDOc5ufhZoz"
      }
    },
    {
      "cell_type": "markdown",
      "source": [
        "link to Colab Notebook: https://colab.research.google.com/drive/1_1g5jBdXy8qc3wrrqBkm2oM7S0Jf7KWB?usp=sharing"
      ],
      "metadata": {
        "id": "A1koKsszhdQZ"
      }
    },
    {
      "cell_type": "markdown",
      "source": [
        "link to download given data as csv: iqs.xlsx- https://1drv.ms/x/s!AkrsggOu-X6aigVzYSl3C-DqICsx?e=v6fXqa"
      ],
      "metadata": {
        "id": "Fxv5TrokhwuB"
      }
    },
    {
      "cell_type": "code",
      "source": [
        "import pandas as pd\n",
        "df= pd.read_excel(\"/content/iqs3.xlsx\")\n",
        "df['date_joined']=pd.to_datetime(df['date_joined']).dt.date\n",
        "df['experience_in_company']=(pd.datetime.now().date()-df['date_joined']).astype('timedelta64[Y]').astype('int')\n",
        "df['total_experience']= df['yrs_of_experience']+df['experience_in_company']\n",
        "df[\"experience_binned\"]=pd.cut(df['total_experience'],[0,5,15,100],labels=[\"Low\",\"Medium\",\"High\"])\n",
        "df"
      ],
      "metadata": {
        "id": "Ul_MlITrhld8"
      },
      "execution_count": null,
      "outputs": []
    },
    {
      "cell_type": "code",
      "execution_count": null,
      "metadata": {
        "id": "WNnF_q6AhNWu"
      },
      "outputs": [],
      "source": [
        ""
      ]
    }
  ]
}