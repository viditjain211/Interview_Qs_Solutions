{
  "nbformat": 4,
  "nbformat_minor": 0,
  "metadata": {
    "colab": {
      "name": "Perimeter_of_River.ipynb",
      "provenance": []
    },
    "kernelspec": {
      "name": "python3",
      "display_name": "Python 3"
    },
    "language_info": {
      "name": "python"
    }
  },
  "cells": [
    {
      "cell_type": "markdown",
      "source": [
        "## Finding the perimiter of a river"
      ],
      "metadata": {
        "id": "CdIUKCGJgCb5"
      }
    },
    {
      "cell_type": "markdown",
      "source": [
        "Suppose you're given a matrix of 1s and 0s that represents a map of rivers. You can assume that the grid cells in your map are only connected horizontally and vertically (e.g. no diagonal connections). You can assume that 1 represents water (your river) and 0 represents land/your river bank. Each cell has a length of 1 and is square in your map. Given this, write code to determine the perimeter of your river.\n",
        "\n",
        "\n",
        "    \n",
        "Examples:\n",
        "\n",
        "\n",
        "    \n",
        "    \n",
        "Input: [[1,0]] \n",
        "    \n",
        "\n",
        "Output: 4\n",
        "    \n",
        "\n",
        "\n",
        "    \n",
        "\n",
        "Input:  [[1,0,1],  [1,1,1]] \n",
        "    \n",
        "\n",
        "Output: 12\n",
        "\n"
      ],
      "metadata": {
        "id": "L6iSEu7GgFKY"
      }
    },
    {
      "cell_type": "markdown",
      "source": [
        "link to colab notebook : https://colab.research.google.com/drive/1g1vmDFNLBjGTQ9e9R9DMkpMqdD-Gep4c?usp=sharing"
      ],
      "metadata": {
        "id": "mOHdjt0Xgwgy"
      }
    },
    {
      "cell_type": "code",
      "source": [
        "def parimeterofriver(arr):\n",
        "  p=0\n",
        "  for i in range(len(arr)):\n",
        "    t=0\n",
        "    for j in range(len(arr[0])):\n",
        "      if arr[i][j]==1 :\n",
        "        \n",
        "        t=4\n",
        "        if (i-1 >=0) and (i-1< len(arr)):\n",
        "          if arr[i-1][j]==1:\n",
        "            t=t-1\n",
        "        if ((i+1) < len(arr)):    \n",
        "          if arr[i+1][j]==1:\n",
        "            t=t-1\n",
        "        if (j-1 >=0) and (j-1< len(arr[0])):\n",
        "          if arr[i][j-1]==1:\n",
        "\n",
        "            t=t-1\n",
        "        if ((j+1) < len(arr[0])):\n",
        "          if arr[i][j+1]==1:\n",
        "            \n",
        "            t=t-1\n",
        "        p=p+t\n",
        "\n",
        "\n",
        "  print(\"perimeter=\",p)\n",
        "           \n"
      ],
      "metadata": {
        "id": "rsxmY_PvgJLg"
      },
      "execution_count": 1,
      "outputs": []
    },
    {
      "cell_type": "code",
      "source": [
        "parimeterofriver([[1,1,1]])"
      ],
      "metadata": {
        "colab": {
          "base_uri": "https://localhost:8080/"
        },
        "id": "wGhfIn9rgNWA",
        "outputId": "a106eebe-fbad-432a-f6af-d536931a78a1"
      },
      "execution_count": 2,
      "outputs": [
        {
          "output_type": "stream",
          "name": "stdout",
          "text": [
            "perimeter= 8\n"
          ]
        }
      ]
    },
    {
      "cell_type": "code",
      "execution_count": 3,
      "metadata": {
        "colab": {
          "base_uri": "https://localhost:8080/"
        },
        "id": "O6pRqGref31-",
        "outputId": "bc009c0b-2432-444e-980b-b1527ee9c7d6"
      },
      "outputs": [
        {
          "output_type": "stream",
          "name": "stdout",
          "text": [
            "perimeter= 12\n"
          ]
        }
      ],
      "source": [
        "parimeterofriver( [[1,0,1], [1,1,1]])"
      ]
    }
  ]
}
